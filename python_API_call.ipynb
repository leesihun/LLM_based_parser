{
 "cells": [
  {
   "cell_type": "markdown",
   "metadata": {},
   "source": [
    "# HE Team LLM Assistant - API Examples\n",
    "\n",
    "This notebook demonstrates how to use all the API endpoints of the HE Team LLM Assistant.\n",
    "\n",
    "**Base URL**: `http://10.252.38.241:8000`\n",
    "\n",
    "**API Version**: v2.1.1 (2025-10-17)\n",
    "\n",
    "## Table of Contents\n",
    "1. [Setup & Authentication](#setup)\n",
    "2. [User Management](#user-management)\n",
    "3. [Chat & Conversations](#chat)\n",
    "4. [Conversation History](#conversation-history)\n",
    "5. [Web Search](#web-search)\n",
    "6. [RAG (Knowledge Base)](#rag)\n",
    "7. [File Management](#file-management)\n",
    "   - 7.5 [JSON Processing](#json-processing)\n",
    "8. [System Health & Configuration](#system)"
   ]
  },
  {
   "cell_type": "markdown",
   "metadata": {},
   "source": [
    "## 1. Setup & Authentication <a name=\"setup\"></a>"
   ]
  },
  {
   "cell_type": "code",
   "execution_count": null,
   "metadata": {},
   "outputs": [],
   "source": [
    "import requests\n",
    "import json\n",
    "from typing import Dict, Optional\n",
    "from pprint import pprint\n",
    "\n",
    "# Base URL for all API calls\n",
    "BASE_URL = \"http://10.252.38.241:8000\"\n",
    "\n",
    "# Global variable to store session token\n",
    "session_token = None\n",
    "\n",
    "def get_headers(token: Optional[str] = None) -> Dict[str, str]:\n",
    "    \"\"\"Generate headers for API requests\"\"\"\n",
    "    headers = {\"Content-Type\": \"application/json\"}\n",
    "    if token:\n",
    "        headers[\"Authorization\"] = f\"Bearer {token}\"\n",
    "    return headers\n",
    "\n",
    "def print_response(response: requests.Response, title: str = \"\"):\n",
    "    \"\"\"Pretty print API response\"\"\"\n",
    "    if title:\n",
    "        print(f\"\\n{'='*60}\")\n",
    "        print(f\"{title}\")\n",
    "        print(f\"{'='*60}\")\n",
    "    print(f\"Status Code: {response.status_code}\")\n",
    "    try:\n",
    "        print(\"Response:\")\n",
    "        pprint(response.json(), width=100)\n",
    "    except:\n",
    "        print(response.text)\n",
    "    print()"
   ]
  },
  {
   "cell_type": "markdown",
   "metadata": {},
   "source": [
    "### 1.1 Login"
   ]
  },
  {
   "cell_type": "code",
   "execution_count": null,
   "metadata": {},
   "outputs": [],
   "source": [
    "# Login with default admin credentials\n",
    "login_data = {\n",
    "    \"username\": \"admin\",\n",
    "    \"password\": \"administrator\"\n",
    "}\n",
    "\n",
    "response = requests.post(\n",
    "    f\"{BASE_URL}/api/auth/login\",\n",
    "    json=login_data,\n",
    "    headers=get_headers()\n",
    ")\n",
    "\n",
    "print_response(response, \"LOGIN\")\n",
    "\n",
    "if response.status_code == 200:\n",
    "    session_token = response.json()[\"session_token\"]\n",
    "    print(f\"Session token stored: {session_token[:20]}...\")\n",
    "else:\n",
    "    print(\"Login failed!\")"
   ]
  },
  {
   "cell_type": "markdown",
   "metadata": {},
   "source": [
    "### 1.2 Get Current User Info"
   ]
  },
  {
   "cell_type": "code",
   "execution_count": null,
   "metadata": {},
   "outputs": [],
   "source": [
    "# Get current authenticated user information\n",
    "response = requests.get(\n",
    "    f\"{BASE_URL}/api/auth/me\",\n",
    "    headers=get_headers(session_token)\n",
    ")\n",
    "\n",
    "print_response(response, \"CURRENT USER INFO\")"
   ]
  },
  {
   "cell_type": "markdown",
   "metadata": {},
   "source": [
    "### 1.3 System Health Check (No Auth Required)"
   ]
  },
  {
   "cell_type": "code",
   "execution_count": null,
   "metadata": {},
   "outputs": [],
   "source": [
    "# Check system health\n",
    "response = requests.get(f\"{BASE_URL}/health\")\n",
    "\n",
    "print_response(response, \"SYSTEM HEALTH\")"
   ]
  },
  {
   "cell_type": "markdown",
   "metadata": {},
   "source": [
    "## 2. User Management <a name=\"user-management\"></a>\n",
    "\n",
    "Admin-only operations for managing users."
   ]
  },
  {
   "cell_type": "markdown",
   "metadata": {},
   "source": [
    "### 2.1 Create New User"
   ]
  },
  {
   "cell_type": "code",
   "execution_count": null,
   "metadata": {},
   "outputs": [],
   "source": [
    "# Create a new user (admin only)\n",
    "new_user_data = {\n",
    "    \"username\": \"testuser\",\n",
    "    \"password\": \"testpassword123\",\n",
    "    \"email\": \"testuser@heteam.com\",\n",
    "    \"role\": \"user\",\n",
    "    \"display_name\": \"Test User\"\n",
    "}\n",
    "\n",
    "response = requests.post(\n",
    "    f\"{BASE_URL}/api/admin/users\",\n",
    "    json=new_user_data,\n",
    "    headers=get_headers(session_token)\n",
    ")\n",
    "\n",
    "print_response(response, \"CREATE USER\")"
   ]
  },
  {
   "cell_type": "markdown",
   "metadata": {},
   "source": [
    "### 2.2 List All Users"
   ]
  },
  {
   "cell_type": "code",
   "execution_count": null,
   "metadata": {},
   "outputs": [],
   "source": [
    "# List all users (admin only)\n",
    "response = requests.get(\n",
    "    f\"{BASE_URL}/api/admin/users\",\n",
    "    headers=get_headers(session_token)\n",
    ")\n",
    "\n",
    "print_response(response, \"LIST USERS\")"
   ]
  },
  {
   "cell_type": "markdown",
   "metadata": {},
   "source": [
    "### 2.3 Update User"
   ]
  },
  {
   "cell_type": "code",
   "execution_count": null,
   "metadata": {},
   "outputs": [],
   "source": [
    "# Update user details (admin only)\n",
    "update_data = {\n",
    "    \"email\": \"newemail@heteam.com\",\n",
    "    \"display_name\": \"Updated Test User\"\n",
    "}\n",
    "\n",
    "response = requests.put(\n",
    "    f\"{BASE_URL}/api/admin/users/testuser\",\n",
    "    json=update_data,\n",
    "    headers=get_headers(session_token)\n",
    ")\n",
    "\n",
    "print_response(response, \"UPDATE USER\")"
   ]
  },
  {
   "cell_type": "markdown",
   "metadata": {},
   "source": [
    "## 3. Chat & Conversations <a name=\"chat\"></a>"
   ]
  },
  {
   "cell_type": "markdown",
   "metadata": {},
   "source": [
    "### 3.1 Send a Simple Chat Message"
   ]
  },
  {
   "cell_type": "code",
   "execution_count": null,
   "metadata": {},
   "outputs": [],
   "source": [
    "# Send a chat message\n",
    "chat_data = {\n",
    "    \"message\": \"What is machine learning?\",\n",
    "    \"temperature\": 0.7,\n",
    "    \"max_tokens\": 2000\n",
    "}\n",
    "\n",
    "response = requests.post(\n",
    "    f\"{BASE_URL}/api/chat/messages\",\n",
    "    json=chat_data,\n",
    "    headers=get_headers(session_token)\n",
    ")\n",
    "\n",
    "print_response(response, \"CHAT MESSAGE\")\n",
    "\n",
    "# Store session_id for continuing the conversation\n",
    "if response.status_code == 200:\n",
    "    chat_session_id = response.json().get(\"session_id\")\n",
    "    print(f\"Session ID: {chat_session_id}\")"
   ]
  },
  {
   "cell_type": "markdown",
   "metadata": {},
   "source": [
    "### 3.2 Continue the Conversation"
   ]
  },
  {
   "cell_type": "code",
   "execution_count": null,
   "metadata": {},
   "outputs": [],
   "source": [
    "# Continue the conversation using the same session_id\n",
    "follow_up_data = {\n",
    "    \"message\": \"Can you give me an example of a machine learning algorithm?\",\n",
    "    \"session_id\": chat_session_id  # Use the session_id from previous chat\n",
    "}\n",
    "\n",
    "response = requests.post(\n",
    "    f\"{BASE_URL}/api/chat/messages\",\n",
    "    json=follow_up_data,\n",
    "    headers=get_headers(session_token)\n",
    ")\n",
    "\n",
    "print_response(response, \"FOLLOW-UP MESSAGE\")"
   ]
  },
  {
   "cell_type": "markdown",
   "metadata": {},
   "source": [
    "### 3.3 Chat with Web Search"
   ]
  },
  {
   "cell_type": "code",
   "execution_count": null,
   "metadata": {},
   "outputs": [],
   "source": [
    "# Send a chat message with web search enabled\n",
    "web_search_data = {\n",
    "    \"message\": \"What are the latest AI developments in 2025?\"\n",
    "}\n",
    "\n",
    "response = requests.post(\n",
    "    f\"{BASE_URL}/api/chat/web-search\",\n",
    "    json=web_search_data,\n",
    "    headers=get_headers(session_token)\n",
    ")\n",
    "\n",
    "print_response(response, \"WEB SEARCH CHAT\")"
   ]
  },
  {
   "cell_type": "markdown",
   "metadata": {},
   "source": [
    "## 4. Conversation History <a name=\"conversation-history\"></a>"
   ]
  },
  {
   "cell_type": "markdown",
   "metadata": {},
   "source": [
    "### 4.1 List All Conversations"
   ]
  },
  {
   "cell_type": "code",
   "execution_count": null,
   "metadata": {},
   "outputs": [],
   "source": [
    "# Get all conversation sessions for current user\n",
    "response = requests.get(\n",
    "    f\"{BASE_URL}/api/chat/sessions\",\n",
    "    headers=get_headers(session_token)\n",
    ")\n",
    "\n",
    "print_response(response, \"ALL CONVERSATIONS\")\n",
    "\n",
    "# Store the first session_id for demonstration\n",
    "if response.status_code == 200 and response.json().get(\"sessions\"):\n",
    "    demo_session_id = response.json()[\"sessions\"][0][\"id\"]\n",
    "    print(f\"Using session ID for examples: {demo_session_id}\")"
   ]
  },
  {
   "cell_type": "markdown",
   "metadata": {},
   "source": [
    "### 4.2 Get Specific Conversation History"
   ]
  },
  {
   "cell_type": "code",
   "execution_count": null,
   "metadata": {},
   "outputs": [],
   "source": [
    "# Get history for a specific session\n",
    "response = requests.get(\n",
    "    f\"{BASE_URL}/api/chat/sessions/{chat_session_id}\",\n",
    "    headers=get_headers(session_token)\n",
    ")\n",
    "\n",
    "print_response(response, \"CONVERSATION HISTORY\")"
   ]
  },
  {
   "cell_type": "markdown",
   "metadata": {},
   "source": [
    "### 4.3 Get Conversation Metadata"
   ]
  },
  {
   "cell_type": "code",
   "execution_count": null,
   "metadata": {},
   "outputs": [],
   "source": [
    "# Get conversation metadata\n",
    "response = requests.get(\n",
    "    f\"{BASE_URL}/api/conversations/{chat_session_id}\",\n",
    "    headers=get_headers(session_token)\n",
    ")\n",
    "\n",
    "print_response(response, \"CONVERSATION METADATA\")"
   ]
  },
  {
   "cell_type": "markdown",
   "metadata": {},
   "source": [
    "## 5. Web Search <a name=\"web-search\"></a>"
   ]
  },
  {
   "cell_type": "markdown",
   "metadata": {},
   "source": [
    "### 5.1 Perform Web Search"
   ]
  },
  {
   "cell_type": "code",
   "execution_count": null,
   "metadata": {},
   "outputs": [],
   "source": [
    "# Perform a web search\n",
    "search_data = {\n",
    "    \"query\": \"machine learning algorithms\",\n",
    "    \"max_results\": 5\n",
    "}\n",
    "\n",
    "response = requests.post(\n",
    "    f\"{BASE_URL}/api/search/web\",\n",
    "    json=search_data,\n",
    "    headers=get_headers(session_token)\n",
    ")\n",
    "\n",
    "print_response(response, \"WEB SEARCH\")"
   ]
  },
  {
   "cell_type": "markdown",
   "metadata": {},
   "source": [
    "### 5.2 Extract Keywords from Text"
   ]
  },
  {
   "cell_type": "code",
   "execution_count": null,
   "metadata": {},
   "outputs": [],
   "source": [
    "# Extract keywords using LLM\n",
    "keyword_data = {\n",
    "    \"text\": \"I want to learn about machine learning algorithms and neural networks for image recognition\"\n",
    "}\n",
    "\n",
    "response = requests.post(\n",
    "    f\"{BASE_URL}/api/search/extract-keywords\",\n",
    "    json=keyword_data,\n",
    "    headers=get_headers(session_token)\n",
    ")\n",
    "\n",
    "print_response(response, \"KEYWORD EXTRACTION\")"
   ]
  },
  {
   "cell_type": "markdown",
   "metadata": {},
   "source": [
    "### 5.3 Get Search System Status"
   ]
  },
  {
   "cell_type": "code",
   "execution_count": null,
   "metadata": {},
   "outputs": [],
   "source": [
    "# Get search system capabilities\n",
    "response = requests.get(\n",
    "    f\"{BASE_URL}/api/search/status\",\n",
    "    headers=get_headers(session_token)\n",
    ")\n",
    "\n",
    "print_response(response, \"SEARCH SYSTEM STATUS\")"
   ]
  },
  {
   "cell_type": "markdown",
   "metadata": {},
   "source": [
    "## 6. RAG (Knowledge Base) <a name=\"rag\"></a>\n",
    "\n",
    "RAG allows you to query a knowledge base built from uploaded JSON files."
   ]
  },
  {
   "cell_type": "markdown",
   "metadata": {},
   "source": [
    "### 6.1 Get RAG System Statistics"
   ]
  },
  {
   "cell_type": "code",
   "execution_count": null,
   "metadata": {},
   "outputs": [],
   "source": [
    "# Get RAG system statistics\n",
    "response = requests.get(\n",
    "    f\"{BASE_URL}/api/rag/stats\",\n",
    "    headers=get_headers(session_token)\n",
    ")\n",
    "\n",
    "print_response(response, \"RAG STATISTICS\")"
   ]
  },
  {
   "cell_type": "markdown",
   "metadata": {},
   "source": [
    "### 6.2 Search the Knowledge Base"
   ]
  },
  {
   "cell_type": "code",
   "execution_count": null,
   "metadata": {},
   "outputs": [],
   "source": [
    "# Search the knowledge base\n",
    "rag_search_data = {\n",
    "    \"query\": \"What are users saying about battery life?\",\n",
    "    \"n_results\": 5\n",
    "}\n",
    "\n",
    "response = requests.post(\n",
    "    f\"{BASE_URL}/api/rag/search\",\n",
    "    json=rag_search_data,\n",
    "    headers=get_headers(session_token)\n",
    ")\n",
    "\n",
    "print_response(response, \"RAG SEARCH\")"
   ]
  },
  {
   "cell_type": "markdown",
   "metadata": {},
   "source": [
    "### 6.3 Chat with RAG Context"
   ]
  },
  {
   "cell_type": "code",
   "execution_count": null,
   "metadata": {},
   "outputs": [],
   "source": [
    "# Send a chat message with RAG enabled\n",
    "rag_chat_data = {\n",
    "    \"message\": \"What do the documents say about Fold 7 battery performance?\",\n",
    "    \"use_rag\": True  # Enable RAG context injection\n",
    "}\n",
    "\n",
    "response = requests.post(\n",
    "    f\"{BASE_URL}/api/chat/messages\",\n",
    "    json=rag_chat_data,\n",
    "    headers=get_headers(session_token)\n",
    ")\n",
    "\n",
    "print_response(response, \"RAG-ENABLED CHAT\")"
   ]
  },
  {
   "cell_type": "markdown",
   "metadata": {},
   "source": [
    "### 6.4 Get RAG Context for a Query"
   ]
  },
  {
   "cell_type": "code",
   "execution_count": null,
   "metadata": {},
   "outputs": [],
   "source": [
    "# Get formatted context from RAG system\n",
    "response = requests.get(\n",
    "    f\"{BASE_URL}/api/rag/context\",\n",
    "    params={\"query\": \"battery life\", \"max_length\": 1000},\n",
    "    headers=get_headers(session_token)\n",
    ")\n",
    "\n",
    "print_response(response, \"RAG CONTEXT\")"
   ]
  },
  {
   "cell_type": "markdown",
   "metadata": {},
   "source": [
    "## 7. File Management <a name=\"file-management\"></a>\n",
    "\n",
    "Upload files for analysis and query them with AI."
   ]
  },
  {
   "cell_type": "markdown",
   "metadata": {},
   "source": [
    "### 7.1 Upload a File"
   ]
  },
  {
   "cell_type": "code",
   "execution_count": null,
   "metadata": {},
   "outputs": [],
   "source": [
    "# Upload a file\n",
    "# Note: You need to have a file to upload. This example uses a text file.\n",
    "\n",
    "# First, create a sample file\n",
    "sample_content = \"\"\"This is a sample document about machine learning.\n",
    "Machine learning is a method of data analysis that automates analytical model building.\n",
    "It is a branch of artificial intelligence based on the idea that systems can learn from data.\n",
    "\"\"\"\n",
    "\n",
    "with open(\"sample_document.txt\", \"w\") as f:\n",
    "    f.write(sample_content)\n",
    "\n",
    "# Upload the file\n",
    "with open(\"sample_document.txt\", \"rb\") as f:\n",
    "    files = {\"file\": (\"sample_document.txt\", f, \"text/plain\")}\n",
    "    response = requests.post(\n",
    "        f\"{BASE_URL}/api/files/upload\",\n",
    "        files=files,\n",
    "        headers={\"Authorization\": f\"Bearer {session_token}\"}  # Don't include Content-Type for multipart\n",
    "    )\n",
    "\n",
    "print_response(response, \"FILE UPLOAD\")\n",
    "\n",
    "# Store file_id for later use\n",
    "if response.status_code == 201:\n",
    "    uploaded_file_id = response.json().get(\"file_id\")\n",
    "    print(f\"Uploaded file ID: {uploaded_file_id}\")"
   ]
  },
  {
   "cell_type": "markdown",
   "metadata": {},
   "source": [
    "### 7.2 List All Uploaded Files"
   ]
  },
  {
   "cell_type": "code",
   "execution_count": null,
   "metadata": {},
   "outputs": [],
   "source": [
    "# List all uploaded files\n",
    "response = requests.get(\n",
    "    f\"{BASE_URL}/api/files\",\n",
    "    headers=get_headers(session_token)\n",
    ")\n",
    "\n",
    "print_response(response, \"LIST FILES\")"
   ]
  },
  {
   "cell_type": "markdown",
   "metadata": {},
   "source": [
    "### 7.3 Ask Questions About a File"
   ]
  },
  {
   "cell_type": "code",
   "execution_count": null,
   "metadata": {},
   "outputs": [],
   "source": [
    "# Ask a question about the uploaded file\n",
    "file_question_data = {\n",
    "    \"question\": \"What is this document about?\"\n",
    "}\n",
    "\n",
    "response = requests.post(\n",
    "    f\"{BASE_URL}/api/files/{uploaded_file_id}/read\",\n",
    "    json=file_question_data,\n",
    "    headers=get_headers(session_token)\n",
    ")\n",
    "\n",
    "print_response(response, \"FILE ANALYSIS\")"
   ]
  },
  {
   "cell_type": "markdown",
   "metadata": {},
   "source": [
    "### 7.4 Delete a File"
   ]
  },
  {
   "cell_type": "code",
   "execution_count": null,
   "metadata": {},
   "outputs": [],
   "source": [
    "# Delete an uploaded file\n",
    "# WARNING: This will permanently delete the file!\n",
    "# Uncomment to actually delete\n",
    "\n",
    "# response = requests.delete(\n",
    "#     f\"{BASE_URL}/api/files/{uploaded_file_id}\",\n",
    "#     headers=get_headers(session_token)\n",
    "# )\n",
    "# print_response(response, \"DELETE FILE\")\n",
    "\n",
    "print(\"File deletion code is commented out for safety\")"
   ]
  },
  {
   "cell_type": "code",
   "execution_count": null,
   "metadata": {},
   "outputs": [],
   "source": [
    "# Query a specific path in the JSON data\n",
    "json_path_chat_data = {\n",
    "    \"message\": \"What is the name and email of the first user?\",\n",
    "    \"file_id\": json_file_id,\n",
    "    \"json_path\": \"users.0\"  # Access first user in the array\n",
    "}\n",
    "\n",
    "response = requests.post(\n",
    "    f\"{BASE_URL}/api/chat/with-json\",\n",
    "    json=json_path_chat_data,\n",
    "    headers=get_headers(session_token)\n",
    ")\n",
    "\n",
    "print_response(response, \"CHAT WITH SPECIFIC JSON PATH\")\n",
    "\n",
    "# Another example - query metadata only\n",
    "print(\"\\n\" + \"=\"*60)\n",
    "print(\"Querying metadata section only...\")\n",
    "print(\"=\"*60)\n",
    "\n",
    "json_path_chat_data2 = {\n",
    "    \"message\": \"What information is in this metadata?\",\n",
    "    \"file_id\": json_file_id,\n",
    "    \"json_path\": \"metadata\"\n",
    "}\n",
    "\n",
    "response = requests.post(\n",
    "    f\"{BASE_URL}/api/chat/with-json\",\n",
    "    json=json_path_chat_data2,\n",
    "    headers=get_headers(session_token)\n",
    ")\n",
    "\n",
    "print_response(response, \"CHAT WITH METADATA PATH\")\n"
   ]
  },
  {
   "cell_type": "markdown",
   "metadata": {},
   "source": [
    "#### 7.5.4 Query Specific JSON Path"
   ]
  },
  {
   "cell_type": "code",
   "execution_count": null,
   "metadata": {},
   "outputs": [],
   "source": [
    "# Chat with LLM using a reference to uploaded JSON file\n",
    "json_file_chat_data = {\n",
    "    \"message\": \"List all the cities where users are located\",\n",
    "    \"file_id\": json_file_id  # Reference the uploaded file\n",
    "}\n",
    "\n",
    "response = requests.post(\n",
    "    f\"{BASE_URL}/api/chat/with-json\",\n",
    "    json=json_file_chat_data,\n",
    "    headers=get_headers(session_token)\n",
    ")\n",
    "\n",
    "print_response(response, \"CHAT WITH JSON FILE REFERENCE\")\n"
   ]
  },
  {
   "cell_type": "markdown",
   "metadata": {},
   "source": [
    "#### 7.5.3 Chat with Uploaded JSON File"
   ]
  },
  {
   "cell_type": "code",
   "execution_count": null,
   "metadata": {},
   "outputs": [],
   "source": [
    "# Chat with LLM using inline JSON data\n",
    "json_chat_data = {\n",
    "    \"message\": \"What is the average age of users in this dataset?\",\n",
    "    \"json_data\": sample_json_data  # Pass JSON directly\n",
    "}\n",
    "\n",
    "response = requests.post(\n",
    "    f\"{BASE_URL}/api/chat/with-json\",\n",
    "    json=json_chat_data,\n",
    "    headers=get_headers(session_token)\n",
    ")\n",
    "\n",
    "print_response(response, \"CHAT WITH INLINE JSON\")\n"
   ]
  },
  {
   "cell_type": "markdown",
   "metadata": {},
   "source": [
    "#### 7.5.2 Chat with Inline JSON Data"
   ]
  },
  {
   "cell_type": "code",
   "execution_count": null,
   "metadata": {},
   "outputs": [],
   "source": [
    "# Create a sample JSON file for testing\n",
    "sample_json_data = {\n",
    "    \"users\": [\n",
    "        {\"id\": 1, \"name\": \"Alice\", \"age\": 28, \"email\": \"alice@example.com\", \"city\": \"New York\"},\n",
    "        {\"id\": 2, \"name\": \"Bob\", \"age\": 35, \"email\": \"bob@example.com\", \"city\": \"San Francisco\"},\n",
    "        {\"id\": 3, \"name\": \"Charlie\", \"age\": 42, \"email\": \"charlie@example.com\", \"city\": \"Chicago\"},\n",
    "        {\"id\": 4, \"name\": \"Diana\", \"age\": 31, \"email\": \"diana@example.com\", \"city\": \"Boston\"}\n",
    "    ],\n",
    "    \"metadata\": {\n",
    "        \"version\": \"1.0\",\n",
    "        \"created\": \"2025-10-17\",\n",
    "        \"total_users\": 4\n",
    "    }\n",
    "}\n",
    "\n",
    "# Save to file\n",
    "with open(\"sample_users.json\", \"w\") as f:\n",
    "    json.dump(sample_json_data, f, indent=2)\n",
    "\n",
    "# Upload the JSON file\n",
    "with open(\"sample_users.json\", \"rb\") as f:\n",
    "    files = {\"file\": (\"sample_users.json\", f, \"application/json\")}\n",
    "    response = requests.post(\n",
    "        f\"{BASE_URL}/api/files/upload\",\n",
    "        files=files,\n",
    "        headers={\"Authorization\": f\"Bearer {session_token}\"}\n",
    "    )\n",
    "\n",
    "print_response(response, \"UPLOAD JSON FILE\")\n",
    "\n",
    "# Store the file_id for JSON analysis\n",
    "if response.status_code == 201:\n",
    "    json_file_id = response.json().get(\"file_id\")\n",
    "    print(f\"JSON file ID: {json_file_id}\")\n",
    "    \n",
    "    # Now analyze the JSON file\n",
    "    print(\"\\n\" + \"=\"*60)\n",
    "    print(\"Analyzing JSON structure...\")\n",
    "    print(\"=\"*60)\n",
    "    \n",
    "    response = requests.post(\n",
    "        f\"{BASE_URL}/api/files/{json_file_id}/analyze-json\",\n",
    "        headers=get_headers(session_token)\n",
    "    )\n",
    "    \n",
    "    print_response(response, \"JSON ANALYSIS\")\n"
   ]
  },
  {
   "cell_type": "markdown",
   "metadata": {},
   "source": [
    "#### 7.5.1 Upload and Analyze JSON File"
   ]
  },
  {
   "cell_type": "markdown",
   "metadata": {},
   "source": [
    "## 7.5 JSON File Processing\n",
    "\n",
    "The system provides special handling for JSON files with three powerful capabilities:\n",
    "1. **Automatic Enhancement** - JSON files are automatically formatted with statistics\n",
    "2. **Comprehensive Analysis** - Detailed JSON structure and quality analysis\n",
    "3. **Direct Chat Integration** - Query JSON data with the LLM"
   ]
  },
  {
   "cell_type": "markdown",
   "metadata": {},
   "source": [
    "## 8. System Health & Configuration <a name=\"system\"></a>"
   ]
  },
  {
   "cell_type": "markdown",
   "metadata": {},
   "source": [
    "### 8.1 Get System Information"
   ]
  },
  {
   "cell_type": "code",
   "execution_count": null,
   "metadata": {},
   "outputs": [],
   "source": [
    "# Get system information (admin only)\n",
    "response = requests.get(\n",
    "    f\"{BASE_URL}/api/system/info\",\n",
    "    headers=get_headers(session_token)\n",
    ")\n",
    "\n",
    "print_response(response, \"SYSTEM INFO\")"
   ]
  },
  {
   "cell_type": "markdown",
   "metadata": {},
   "source": [
    "### 8.2 List Available Models"
   ]
  },
  {
   "cell_type": "markdown",
   "metadata": {},
   "source": [
    "---\n",
    "\n",
    "## Tips & Notes\n",
    "\n",
    "### Authentication\n",
    "- All endpoints except `/health` and `/api/auth/login` require authentication\n",
    "- Include the Bearer token in the `Authorization` header\n",
    "- Sessions expire after 24 hours of inactivity\n",
    "\n",
    "### Session Management\n",
    "- Use `session_id` to continue conversations\n",
    "- New sessions are created automatically if no `session_id` is provided\n",
    "- Sessions are user-specific and isolated\n",
    "\n",
    "### RAG (Knowledge Base)\n",
    "- RAG requires JSON files to be loaded into the system\n",
    "- Set `use_rag: true` in chat requests to enable context injection\n",
    "- The system searches for relevant content and adds it to the conversation context\n",
    "\n",
    "### File Uploads\n",
    "- Supported formats: PDF, DOCX, TXT, MD, XLSX, XLS, CSV, JSON, PY, JS, HTML, XML, YML, YAML\n",
    "- Files are stored per-user in isolated directories\n",
    "- Use `/api/files/:file_id/read` to analyze uploaded files with AI\n",
    "\n",
    "### JSON Processing\n",
    "- **Automatic Enhancement**: JSON files are automatically formatted with statistics when uploaded\n",
    "- **Comprehensive Analysis**: Use `/api/files/:file_id/analyze-json` for detailed structure, schema, and quality analysis\n",
    "- **Direct Chat Integration**: Use `/api/chat/with-json` to query JSON data directly with the LLM\n",
    "- **Path Queries**: Use dot notation (e.g., `users.0.name`, `metadata.version`) to query specific parts of JSON\n",
    "- **Inline or File Reference**: Pass JSON data directly or reference uploaded files via `file_id`\n",
    "\n",
    "### Web Search\n",
    "- Web search integrates with DuckDuckGo, Bing, and Brave\n",
    "- Keyword extraction uses LLM to optimize search queries\n",
    "- Results are cached for 1 hour by default\n",
    "\n",
    "### Error Handling\n",
    "- Always check `response.status_code` before processing results\n",
    "- Common status codes:\n",
    "  - `200`: Success\n",
    "  - `201`: Created\n",
    "  - `400`: Bad Request\n",
    "  - `401`: Unauthorized\n",
    "  - `403`: Forbidden (admin required)\n",
    "  - `404`: Not Found\n",
    "  - `500`: Server Error\n",
    "\n",
    "### Admin Operations\n",
    "- User management endpoints require admin role\n",
    "- Model configuration changes require admin role\n",
    "- Use with caution as these affect all users\n",
    "\n",
    "---\n",
    "\n",
    "**API Documentation**: See `API_DOCUMENTATION.md` for complete details\n",
    "\n",
    "**Base URL**: `http://10.252.38.241:8000`\n",
    "\n",
    "**API Version**: v2.1.1\n",
    "\n",
    "**Last Updated**: 2025-10-17"
   ]
  },
  {
   "cell_type": "markdown",
   "metadata": {},
   "source": [
    "### 8.3 Get Current Model Configuration"
   ]
  },
  {
   "cell_type": "code",
   "execution_count": null,
   "metadata": {},
   "outputs": [],
   "source": [
    "# Get current model configuration\n",
    "response = requests.get(\n",
    "    f\"{BASE_URL}/api/config/model\",\n",
    "    headers=get_headers(session_token)\n",
    ")\n",
    "\n",
    "print_response(response, \"MODEL CONFIGURATION\")"
   ]
  },
  {
   "cell_type": "markdown",
   "metadata": {},
   "source": [
    "### 8.4 Update Model Configuration (Admin Only)"
   ]
  },
  {
   "cell_type": "code",
   "execution_count": null,
   "metadata": {},
   "outputs": [],
   "source": [
    "# Update model configuration (admin only)\n",
    "# WARNING: This changes system settings!\n",
    "# Uncomment to actually update\n",
    "\n",
    "# config_update = {\n",
    "#     \"ollama\": {\n",
    "#         \"temperature\": 0.8,\n",
    "#         \"num_ctx\": 4096\n",
    "#     }\n",
    "# }\n",
    "# \n",
    "# response = requests.post(\n",
    "#     f\"{BASE_URL}/api/config/model\",\n",
    "#     json=config_update,\n",
    "#     headers=get_headers(session_token)\n",
    "# )\n",
    "# print_response(response, \"UPDATE MODEL CONFIG\")\n",
    "\n",
    "print(\"Model configuration update code is commented out for safety\")"
   ]
  },
  {
   "cell_type": "markdown",
   "metadata": {},
   "source": [
    "## 9. Complete Workflow Example\n",
    "\n",
    "This section demonstrates a complete workflow using multiple APIs together."
   ]
  },
  {
   "cell_type": "code",
   "execution_count": null,
   "metadata": {},
   "outputs": [],
   "source": [
    "print(\"=\"*60)\n",
    "print(\"COMPLETE WORKFLOW EXAMPLE\")\n",
    "print(\"=\"*60)\n",
    "\n",
    "# Step 1: Start a new conversation\n",
    "print(\"\\n1. Starting a conversation about Samsung Fold 7...\")\n",
    "chat_data = {\n",
    "    \"message\": \"What information do you have about Samsung Galaxy Fold 7?\",\n",
    "    \"use_rag\": True\n",
    "}\n",
    "response = requests.post(\n",
    "    f\"{BASE_URL}/api/chat/messages\",\n",
    "    json=chat_data,\n",
    "    headers=get_headers(session_token)\n",
    ")\n",
    "if response.status_code == 200:\n",
    "    workflow_session_id = response.json()[\"session_id\"]\n",
    "    print(f\"✓ Conversation started (Session: {workflow_session_id})\")\n",
    "    print(f\"Response preview: {response.json()['message'][:100]}...\")\n",
    "\n",
    "# Step 2: Continue the conversation\n",
    "print(\"\\n2. Asking a follow-up question...\")\n",
    "follow_up = {\n",
    "    \"message\": \"Tell me more about the battery life\",\n",
    "    \"session_id\": workflow_session_id,\n",
    "    \"use_rag\": True\n",
    "}\n",
    "response = requests.post(\n",
    "    f\"{BASE_URL}/api/chat/messages\",\n",
    "    json=follow_up,\n",
    "    headers=get_headers(session_token)\n",
    ")\n",
    "if response.status_code == 200:\n",
    "    print(f\"✓ Follow-up answered\")\n",
    "    print(f\"Response preview: {response.json()['message'][:100]}...\")\n",
    "\n",
    "# Step 3: View conversation history\n",
    "print(\"\\n3. Viewing conversation history...\")\n",
    "response = requests.get(\n",
    "    f\"{BASE_URL}/api/chat/sessions/{workflow_session_id}\",\n",
    "    headers=get_headers(session_token)\n",
    ")\n",
    "if response.status_code == 200:\n",
    "    history = response.json()[\"history\"]\n",
    "    print(f\"✓ Conversation has {len(history)} messages\")\n",
    "    for msg in history:\n",
    "        print(f\"  - {msg['role']}: {msg['content'][:50]}...\")\n",
    "\n",
    "# Step 4: Perform a web search for latest information\n",
    "print(\"\\n4. Searching for latest Fold 7 news...\")\n",
    "search_data = {\n",
    "    \"query\": \"Samsung Galaxy Fold 7 2025 news\",\n",
    "    \"max_results\": 3\n",
    "}\n",
    "response = requests.post(\n",
    "    f\"{BASE_URL}/api/search/web\",\n",
    "    json=search_data,\n",
    "    headers=get_headers(session_token)\n",
    ")\n",
    "if response.status_code == 200:\n",
    "    results = response.json().get(\"results\", [])\n",
    "    print(f\"✓ Found {len(results)} search results\")\n",
    "    for i, result in enumerate(results[:3], 1):\n",
    "        print(f\"  {i}. {result.get('title', 'No title')[:60]}...\")\n",
    "\n",
    "# Step 5: Check RAG system stats\n",
    "print(\"\\n5. Checking knowledge base statistics...\")\n",
    "response = requests.get(\n",
    "    f\"{BASE_URL}/api/rag/stats\",\n",
    "    headers=get_headers(session_token)\n",
    ")\n",
    "if response.status_code == 200:\n",
    "    stats = response.json()[\"stats\"]\n",
    "    print(f\"✓ Knowledge base ready\")\n",
    "    print(f\"  - Documents: {stats.get('document_count', 0)}\")\n",
    "    print(f\"  - Chunks: {stats.get('total_chunks', 0)}\")\n",
    "    print(f\"  - Status: {stats.get('status', 'unknown')}\")\n",
    "\n",
    "print(\"\\n\" + \"=\"*60)\n",
    "print(\"WORKFLOW COMPLETE\")\n",
    "print(\"=\"*60)"
   ]
  },
  {
   "cell_type": "markdown",
   "metadata": {},
   "source": [
    "## 10. Logout"
   ]
  },
  {
   "cell_type": "code",
   "execution_count": null,
   "metadata": {},
   "outputs": [],
   "source": [
    "# Logout and invalidate session token\n",
    "response = requests.post(\n",
    "    f\"{BASE_URL}/api/auth/logout\",\n",
    "    headers=get_headers(session_token)\n",
    ")\n",
    "\n",
    "print_response(response, \"LOGOUT\")\n",
    "\n",
    "if response.status_code == 200:\n",
    "    session_token = None\n",
    "    print(\"Session token cleared\")"
   ]
  },
  {
   "cell_type": "markdown",
   "metadata": {},
   "source": [
    "---\n",
    "\n",
    "## Tips & Notes\n",
    "\n",
    "### Authentication\n",
    "- All endpoints except `/health` and `/api/auth/login` require authentication\n",
    "- Include the Bearer token in the `Authorization` header\n",
    "- Sessions expire after 24 hours of inactivity\n",
    "\n",
    "### Session Management\n",
    "- Use `session_id` to continue conversations\n",
    "- New sessions are created automatically if no `session_id` is provided\n",
    "- Sessions are user-specific and isolated\n",
    "\n",
    "### RAG (Knowledge Base)\n",
    "- RAG requires JSON files to be loaded into the system\n",
    "- Set `use_rag: true` in chat requests to enable context injection\n",
    "- The system searches for relevant content and adds it to the conversation context\n",
    "\n",
    "### File Uploads\n",
    "- Supported formats: PDF, DOCX, TXT, MD, XLSX, XLS, CSV, JSON, PY, JS, HTML, XML, YML, YAML\n",
    "- Files are stored per-user in isolated directories\n",
    "- Use `/api/files/:file_id/read` to analyze uploaded files with AI\n",
    "\n",
    "### Web Search\n",
    "- Web search integrates with DuckDuckGo, Bing, and Brave\n",
    "- Keyword extraction uses LLM to optimize search queries\n",
    "- Results are cached for 1 hour by default\n",
    "\n",
    "### Error Handling\n",
    "- Always check `response.status_code` before processing results\n",
    "- Common status codes:\n",
    "  - `200`: Success\n",
    "  - `201`: Created\n",
    "  - `400`: Bad Request\n",
    "  - `401`: Unauthorized\n",
    "  - `403`: Forbidden (admin required)\n",
    "  - `404`: Not Found\n",
    "  - `500`: Server Error\n",
    "\n",
    "### Admin Operations\n",
    "- User management endpoints require admin role\n",
    "- Model configuration changes require admin role\n",
    "- Use with caution as these affect all users\n",
    "\n",
    "---\n",
    "\n",
    "**API Documentation**: See `API_DOCUMENTATION.md` for complete details\n",
    "\n",
    "**Base URL**: `http://10.252.38.241:8000`\n",
    "\n",
    "**Last Updated**: 2025-10-17"
   ]
  }
 ],
 "metadata": {
  "kernelspec": {
   "display_name": "Python 3",
   "language": "python",
   "name": "python3"
  },
  "language_info": {
   "codemirror_mode": {
    "name": "ipython",
    "version": 3
   },
   "file_extension": ".py",
   "mimetype": "text/x-python",
   "name": "python",
   "nbconvert_exporter": "python",
   "pygments_lexer": "ipython3",
   "version": "3.11.0"
  }
 },
 "nbformat": 4,
 "nbformat_minor": 4
}
